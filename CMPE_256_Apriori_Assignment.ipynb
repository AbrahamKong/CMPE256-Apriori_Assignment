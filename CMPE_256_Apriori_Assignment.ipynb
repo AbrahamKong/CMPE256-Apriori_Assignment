{
  "nbformat": 4,
  "nbformat_minor": 0,
  "metadata": {
    "anaconda-cloud": {},
    "kernelspec": {
      "display_name": "Python 3",
      "language": "python",
      "name": "python3"
    },
    "language_info": {
      "codemirror_mode": {
        "name": "ipython",
        "version": 3
      },
      "file_extension": ".py",
      "mimetype": "text/x-python",
      "name": "python",
      "nbconvert_exporter": "python",
      "pygments_lexer": "ipython3",
      "version": "3.5.1"
    },
    "colab": {
      "name": "CMPE 256 Apriori Assignment.ipynb",
      "provenance": [],
      "include_colab_link": true
    }
  },
  "cells": [
    {
      "cell_type": "markdown",
      "metadata": {
        "id": "view-in-github",
        "colab_type": "text"
      },
      "source": [
        "<a href=\"https://colab.research.google.com/github/AbrahamKong/CMPE256-Apriori_Assignment/blob/main/CMPE_256_Apriori_Assignment.ipynb\" target=\"_parent\"><img src=\"https://colab.research.google.com/assets/colab-badge.svg\" alt=\"Open In Colab\"/></a>"
      ]
    },
    {
      "cell_type": "code",
      "metadata": {
        "colab": {
          "base_uri": "https://localhost:8080/"
        },
        "id": "GQQJNJAh1tFN",
        "outputId": "b0b2abbe-7548-47ba-e88b-2fe6ea3d8ddd"
      },
      "source": [
        "!pip install apyori"
      ],
      "execution_count": 47,
      "outputs": [
        {
          "output_type": "stream",
          "name": "stdout",
          "text": [
            "Requirement already satisfied: apyori in /usr/local/lib/python3.7/dist-packages (1.1.2)\n"
          ]
        }
      ]
    },
    {
      "cell_type": "code",
      "metadata": {
        "id": "vVDyNIv_R_jJ"
      },
      "source": [
        "import pandas as pd\n",
        "import numpy as np\n",
        "from apyori import apriori"
      ],
      "execution_count": 48,
      "outputs": []
    },
    {
      "cell_type": "code",
      "metadata": {
        "colab": {
          "base_uri": "https://localhost:8080/",
          "height": 206
        },
        "id": "E-JJO2ucSbbT",
        "outputId": "63d75afd-e42e-4cd0-a178-e16dab36f530"
      },
      "source": [
        "df = pd.read_csv(\"https://ghcdn.rawgit.org/AbrahamKong/CMPE256-Apriori_Assignment/main/TRAIN-ARULES.csv\")\n",
        "df.head()"
      ],
      "execution_count": 49,
      "outputs": [
        {
          "output_type": "execute_result",
          "data": {
            "text/html": [
              "<div>\n",
              "<style scoped>\n",
              "    .dataframe tbody tr th:only-of-type {\n",
              "        vertical-align: middle;\n",
              "    }\n",
              "\n",
              "    .dataframe tbody tr th {\n",
              "        vertical-align: top;\n",
              "    }\n",
              "\n",
              "    .dataframe thead th {\n",
              "        text-align: right;\n",
              "    }\n",
              "</style>\n",
              "<table border=\"1\" class=\"dataframe\">\n",
              "  <thead>\n",
              "    <tr style=\"text-align: right;\">\n",
              "      <th></th>\n",
              "      <th>order_id</th>\n",
              "      <th>user_id</th>\n",
              "      <th>product_name</th>\n",
              "    </tr>\n",
              "  </thead>\n",
              "  <tbody>\n",
              "    <tr>\n",
              "      <th>0</th>\n",
              "      <td>1483</td>\n",
              "      <td>90</td>\n",
              "      <td>Organic Pink Lemonade Bunny Fruit Snacks</td>\n",
              "    </tr>\n",
              "    <tr>\n",
              "      <th>1</th>\n",
              "      <td>1483</td>\n",
              "      <td>90</td>\n",
              "      <td>Dark Chocolate Minis</td>\n",
              "    </tr>\n",
              "    <tr>\n",
              "      <th>2</th>\n",
              "      <td>1483</td>\n",
              "      <td>90</td>\n",
              "      <td>Sparkling Water, Natural Mango Essenced</td>\n",
              "    </tr>\n",
              "    <tr>\n",
              "      <th>3</th>\n",
              "      <td>1483</td>\n",
              "      <td>90</td>\n",
              "      <td>Peach-Pear Sparkling Water</td>\n",
              "    </tr>\n",
              "    <tr>\n",
              "      <th>4</th>\n",
              "      <td>1483</td>\n",
              "      <td>90</td>\n",
              "      <td>Organic Heritage Flakes Cereal</td>\n",
              "    </tr>\n",
              "  </tbody>\n",
              "</table>\n",
              "</div>"
            ],
            "text/plain": [
              "   order_id  user_id                              product_name\n",
              "0      1483       90  Organic Pink Lemonade Bunny Fruit Snacks\n",
              "1      1483       90                      Dark Chocolate Minis\n",
              "2      1483       90   Sparkling Water, Natural Mango Essenced\n",
              "3      1483       90                Peach-Pear Sparkling Water\n",
              "4      1483       90            Organic Heritage Flakes Cereal"
            ]
          },
          "metadata": {},
          "execution_count": 49
        }
      ]
    },
    {
      "cell_type": "code",
      "source": [
        "# transform data set to meet the apriori function requirements\n",
        "\n",
        "# Group data by order_id as instruction\n",
        "# Transfer product names into a list for each transaction\n",
        "df_grouped = df.groupby(by = ['order_id'])['product_name'].apply(list).reset_index(name='product_name')"
      ],
      "metadata": {
        "id": "PbN4SoBmT4Fg"
      },
      "execution_count": 50,
      "outputs": []
    },
    {
      "cell_type": "code",
      "source": [
        "# Unpack list into their own column\n",
        "df_grouped = df_grouped['product_name'].apply(pd.Series)\n",
        "print(df)"
      ],
      "metadata": {
        "colab": {
          "base_uri": "https://localhost:8080/"
        },
        "id": "hwZHub4zU6ZV",
        "outputId": "373b3bff-c130-496d-aa24-2266ae96bba9"
      },
      "execution_count": 51,
      "outputs": [
        {
          "output_type": "stream",
          "name": "stdout",
          "text": [
            "       order_id  user_id                              product_name\n",
            "0          1483       90  Organic Pink Lemonade Bunny Fruit Snacks\n",
            "1          1483       90                      Dark Chocolate Minis\n",
            "2          1483       90   Sparkling Water, Natural Mango Essenced\n",
            "3          1483       90                Peach-Pear Sparkling Water\n",
            "4          1483       90            Organic Heritage Flakes Cereal\n",
            "...         ...      ...                                       ...\n",
            "12958   3413579       84                           Organic Avocado\n",
            "12959   3413579       84                                 Guacamole\n",
            "12960   3413579       84       Thin And Crispy Corn Tortilla Chips\n",
            "12961   3413579       84                    Original Veggie Straws\n",
            "12962   3413579       84             Organic Wheat Square Crackers\n",
            "\n",
            "[12963 rows x 3 columns]\n"
          ]
        }
      ]
    },
    {
      "cell_type": "code",
      "source": [
        "# Trasform dataframe into a list to meet the apriori requirements\n",
        "data = df_grouped.astype(str).values.tolist()"
      ],
      "metadata": {
        "id": "SHXwgHNYVXxA"
      },
      "execution_count": 52,
      "outputs": []
    },
    {
      "cell_type": "code",
      "source": [
        "# remove mull value from each row\n",
        "data = [[ele for ele in sub if ele != 'nan'] for sub in data]"
      ],
      "metadata": {
        "id": "I42VP3EfV_go"
      },
      "execution_count": 53,
      "outputs": []
    },
    {
      "cell_type": "code",
      "metadata": {
        "id": "Z3Xfrmdg0dCo"
      },
      "source": [
        "# Apply apriori algorithm\n",
        "association_rules = apriori(transactions = data, min_support=0.0045) \n",
        "association_results = list(association_rules)\n",
        "result = pd.DataFrame(association_results)"
      ],
      "execution_count": 54,
      "outputs": []
    },
    {
      "cell_type": "code",
      "metadata": {
        "colab": {
          "base_uri": "https://localhost:8080/"
        },
        "id": "POxqb4NCpbcV",
        "outputId": "f05b824c-2419-46ee-cde0-065fe181d4be"
      },
      "source": [
        "# numbers of tid\n",
        "\n",
        "print(len(association_results))"
      ],
      "execution_count": 55,
      "outputs": [
        {
          "output_type": "stream",
          "name": "stdout",
          "text": [
            "1492\n"
          ]
        }
      ]
    },
    {
      "cell_type": "code",
      "metadata": {
        "id": "HzPDyh7KUX3z",
        "colab": {
          "base_uri": "https://localhost:8080/",
          "height": 206
        },
        "outputId": "807cd220-a5b5-4baf-a511-291ae699d052"
      },
      "source": [
        "result.head()"
      ],
      "execution_count": 56,
      "outputs": [
        {
          "output_type": "execute_result",
          "data": {
            "text/html": [
              "<div>\n",
              "<style scoped>\n",
              "    .dataframe tbody tr th:only-of-type {\n",
              "        vertical-align: middle;\n",
              "    }\n",
              "\n",
              "    .dataframe tbody tr th {\n",
              "        vertical-align: top;\n",
              "    }\n",
              "\n",
              "    .dataframe thead th {\n",
              "        text-align: right;\n",
              "    }\n",
              "</style>\n",
              "<table border=\"1\" class=\"dataframe\">\n",
              "  <thead>\n",
              "    <tr style=\"text-align: right;\">\n",
              "      <th></th>\n",
              "      <th>items</th>\n",
              "      <th>support</th>\n",
              "      <th>ordered_statistics</th>\n",
              "    </tr>\n",
              "  </thead>\n",
              "  <tbody>\n",
              "    <tr>\n",
              "      <th>0</th>\n",
              "      <td>(0% Greek Strained Yogurt)</td>\n",
              "      <td>0.009873</td>\n",
              "      <td>[((), (0% Greek Strained Yogurt), 0.0098730606...</td>\n",
              "    </tr>\n",
              "    <tr>\n",
              "      <th>1</th>\n",
              "      <td>(100% Juice, Variety Pack)</td>\n",
              "      <td>0.004937</td>\n",
              "      <td>[((), (100% Juice, Variety Pack), 0.0049365303...</td>\n",
              "    </tr>\n",
              "    <tr>\n",
              "      <th>2</th>\n",
              "      <td>(100% Premium Select Not From Concentrate Pure...</td>\n",
              "      <td>0.009168</td>\n",
              "      <td>[((), (100% Premium Select Not From Concentrat...</td>\n",
              "    </tr>\n",
              "    <tr>\n",
              "      <th>3</th>\n",
              "      <td>(100% Recycled Paper Towels)</td>\n",
              "      <td>0.005642</td>\n",
              "      <td>[((), (100% Recycled Paper Towels), 0.00564174...</td>\n",
              "    </tr>\n",
              "    <tr>\n",
              "      <th>4</th>\n",
              "      <td>(1500 Pale Ale)</td>\n",
              "      <td>0.014810</td>\n",
              "      <td>[((), (1500 Pale Ale), 0.014809590973201692, 1...</td>\n",
              "    </tr>\n",
              "  </tbody>\n",
              "</table>\n",
              "</div>"
            ],
            "text/plain": [
              "                                               items  ...                                 ordered_statistics\n",
              "0                         (0% Greek Strained Yogurt)  ...  [((), (0% Greek Strained Yogurt), 0.0098730606...\n",
              "1                         (100% Juice, Variety Pack)  ...  [((), (100% Juice, Variety Pack), 0.0049365303...\n",
              "2  (100% Premium Select Not From Concentrate Pure...  ...  [((), (100% Premium Select Not From Concentrat...\n",
              "3                       (100% Recycled Paper Towels)  ...  [((), (100% Recycled Paper Towels), 0.00564174...\n",
              "4                                    (1500 Pale Ale)  ...  [((), (1500 Pale Ale), 0.014809590973201692, 1...\n",
              "\n",
              "[5 rows x 3 columns]"
            ]
          },
          "metadata": {},
          "execution_count": 56
        }
      ]
    },
    {
      "cell_type": "code",
      "source": [
        "result['ordered_statistics'][0]"
      ],
      "metadata": {
        "colab": {
          "base_uri": "https://localhost:8080/"
        },
        "id": "k5eaCTHdWmk9",
        "outputId": "b093e817-529c-4e08-a3ef-cfcfc26d6267"
      },
      "execution_count": 57,
      "outputs": [
        {
          "output_type": "execute_result",
          "data": {
            "text/plain": [
              "[OrderedStatistic(items_base=frozenset(), items_add=frozenset({'0% Greek Strained Yogurt'}), confidence=0.009873060648801129, lift=1.0)]"
            ]
          },
          "metadata": {},
          "execution_count": 57
        }
      ]
    }
  ]
}