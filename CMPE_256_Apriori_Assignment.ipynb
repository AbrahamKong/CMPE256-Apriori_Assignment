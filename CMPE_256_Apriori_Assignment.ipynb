{
  "nbformat": 4,
  "nbformat_minor": 0,
  "metadata": {
    "anaconda-cloud": {},
    "kernelspec": {
      "display_name": "Python 3",
      "language": "python",
      "name": "python3"
    },
    "language_info": {
      "codemirror_mode": {
        "name": "ipython",
        "version": 3
      },
      "file_extension": ".py",
      "mimetype": "text/x-python",
      "name": "python",
      "nbconvert_exporter": "python",
      "pygments_lexer": "ipython3",
      "version": "3.5.1"
    },
    "colab": {
      "name": "CMPE 256 Apriori Assignment.ipynb",
      "provenance": [],
      "include_colab_link": true
    }
  },
  "cells": [
    {
      "cell_type": "markdown",
      "metadata": {
        "id": "view-in-github",
        "colab_type": "text"
      },
      "source": [
        "<a href=\"https://colab.research.google.com/github/AbrahamKong/CMPE256-Apriori_Assignment/blob/main/CMPE_256_Apriori_Assignment.ipynb\" target=\"_parent\"><img src=\"https://colab.research.google.com/assets/colab-badge.svg\" alt=\"Open In Colab\"/></a>"
      ]
    },
    {
      "cell_type": "code",
      "metadata": {
        "id": "vVDyNIv_R_jJ"
      },
      "source": [
        "import pandas as pd\n",
        "import numpy as np\n",
        "from mlxtend.frequent_patterns import apriori\n",
        "from mlxtend.frequent_patterns import association_rules"
      ],
      "execution_count": 3,
      "outputs": []
    },
    {
      "cell_type": "code",
      "metadata": {
        "colab": {
          "base_uri": "https://localhost:8080/",
          "height": 206
        },
        "id": "E-JJO2ucSbbT",
        "outputId": "5009ab1b-294d-4bdc-bea0-c0e2bbdfae4a"
      },
      "source": [
        "df = pd.read_csv(\"/content/sample_data/TRAIN-ARULES.csv\")\n",
        "df.head()"
      ],
      "execution_count": 5,
      "outputs": [
        {
          "output_type": "execute_result",
          "data": {
            "text/html": [
              "<div>\n",
              "<style scoped>\n",
              "    .dataframe tbody tr th:only-of-type {\n",
              "        vertical-align: middle;\n",
              "    }\n",
              "\n",
              "    .dataframe tbody tr th {\n",
              "        vertical-align: top;\n",
              "    }\n",
              "\n",
              "    .dataframe thead th {\n",
              "        text-align: right;\n",
              "    }\n",
              "</style>\n",
              "<table border=\"1\" class=\"dataframe\">\n",
              "  <thead>\n",
              "    <tr style=\"text-align: right;\">\n",
              "      <th></th>\n",
              "      <th>order_id</th>\n",
              "      <th>user_id</th>\n",
              "      <th>product_name</th>\n",
              "    </tr>\n",
              "  </thead>\n",
              "  <tbody>\n",
              "    <tr>\n",
              "      <th>0</th>\n",
              "      <td>1483</td>\n",
              "      <td>90</td>\n",
              "      <td>Organic Pink Lemonade Bunny Fruit Snacks</td>\n",
              "    </tr>\n",
              "    <tr>\n",
              "      <th>1</th>\n",
              "      <td>1483</td>\n",
              "      <td>90</td>\n",
              "      <td>Dark Chocolate Minis</td>\n",
              "    </tr>\n",
              "    <tr>\n",
              "      <th>2</th>\n",
              "      <td>1483</td>\n",
              "      <td>90</td>\n",
              "      <td>Sparkling Water, Natural Mango Essenced</td>\n",
              "    </tr>\n",
              "    <tr>\n",
              "      <th>3</th>\n",
              "      <td>1483</td>\n",
              "      <td>90</td>\n",
              "      <td>Peach-Pear Sparkling Water</td>\n",
              "    </tr>\n",
              "    <tr>\n",
              "      <th>4</th>\n",
              "      <td>1483</td>\n",
              "      <td>90</td>\n",
              "      <td>Organic Heritage Flakes Cereal</td>\n",
              "    </tr>\n",
              "  </tbody>\n",
              "</table>\n",
              "</div>"
            ],
            "text/plain": [
              "   order_id  user_id                              product_name\n",
              "0      1483       90  Organic Pink Lemonade Bunny Fruit Snacks\n",
              "1      1483       90                      Dark Chocolate Minis\n",
              "2      1483       90   Sparkling Water, Natural Mango Essenced\n",
              "3      1483       90                Peach-Pear Sparkling Water\n",
              "4      1483       90            Organic Heritage Flakes Cereal"
            ]
          },
          "metadata": {},
          "execution_count": 5
        }
      ]
    },
    {
      "cell_type": "code",
      "metadata": {
        "colab": {
          "base_uri": "https://localhost:8080/"
        },
        "id": "gdHC0XHP7-JR",
        "outputId": "23cafdd1-5528-409e-c9c1-e87e7feb92ae"
      },
      "source": [
        "dt = pd.read_csv(\"/content/sample_data/testarules.csv\")\n",
        "dt.head()"
      ],
      "execution_count": 12,
      "outputs": [
        {
          "output_type": "execute_result",
          "data": {
            "text/plain": [
              "<bound method NDFrame.head of                   Item1                                     Item2  ... Item4  Item5\n",
              "0  Dark Chocolate Minis  Organic Pink Lemonade Bunny Fruit Snacks  ...   NaN    NaN\n",
              "\n",
              "[1 rows x 5 columns]>"
            ]
          },
          "metadata": {},
          "execution_count": 12
        }
      ]
    },
    {
      "cell_type": "code",
      "metadata": {
        "colab": {
          "base_uri": "https://localhost:8080/"
        },
        "id": "ZkBNgAmqSfsW",
        "outputId": "d02025f8-d982-46df-86f1-0b0a9a64be63"
      },
      "source": [
        "# find if value == null\n",
        "\n",
        "df.apply(lambda x: sum(x.isnull()),axis=0)"
      ],
      "execution_count": 13,
      "outputs": [
        {
          "output_type": "execute_result",
          "data": {
            "text/plain": [
              "order_id        0\n",
              "user_id         0\n",
              "product_name    0\n",
              "dtype: int64"
            ]
          },
          "metadata": {},
          "execution_count": 13
        }
      ]
    },
    {
      "cell_type": "code",
      "metadata": {
        "colab": {
          "base_uri": "https://localhost:8080/"
        },
        "id": "45NVOw69nEle",
        "outputId": "4111f5e6-d736-4fd6-fb56-2943fecdd26a"
      },
      "source": [
        "# Use Pandas to do one-hot encoding\n",
        "one_hot = pd.get_dummies(df['product_name'])\n",
        "# Drop column B as it is now encoded\n",
        "df = df.drop('product_name',axis = 1)\n",
        "# Join the encoded df\n",
        "df = df.join(one_hot)\n",
        "\n",
        "df.head"
      ],
      "execution_count": 18,
      "outputs": [
        {
          "output_type": "execute_result",
          "data": {
            "text/plain": [
              "<bound method NDFrame.head of        order_id  ...  smartwater® Electrolyte Enhanced Water\n",
              "0          1483  ...                                       0\n",
              "1          1483  ...                                       0\n",
              "2          1483  ...                                       0\n",
              "3          1483  ...                                       0\n",
              "4          1483  ...                                       0\n",
              "...         ...  ...                                     ...\n",
              "12958   3413579  ...                                       0\n",
              "12959   3413579  ...                                       0\n",
              "12960   3413579  ...                                       0\n",
              "12961   3413579  ...                                       0\n",
              "12962   3413579  ...                                       0\n",
              "\n",
              "[12963 rows x 3543 columns]>"
            ]
          },
          "metadata": {},
          "execution_count": 18
        }
      ]
    },
    {
      "cell_type": "code",
      "metadata": {
        "colab": {
          "base_uri": "https://localhost:8080/"
        },
        "id": "POxqb4NCpbcV",
        "outputId": "19670038-5a88-4c4d-9fc3-08a00e76bf6d"
      },
      "source": [
        "df.columns"
      ],
      "execution_count": 33,
      "outputs": [
        {
          "output_type": "execute_result",
          "data": {
            "text/plain": [
              "Index(['order_id', 'user_id', '0% Fat Free Organic Milk',\n",
              "       '0% Greek Strained Yogurt', '0% Greek, Blueberry on the Bottom Yogurt',\n",
              "       '1 Apple + 1 Pear Fruit Bar', '1 Liter',\n",
              "       '1 Step Kashmir Spinach Indian Cuisine', '1% Lowfat Milk', '1% Milk',\n",
              "       ...\n",
              "       'Zero Calorie Cola Soda', 'Zero Calorie Lemon Lime Soda',\n",
              "       'Zero Calorie Tonic Water', 'Zero Go-Go Mixed Berry Vitamin Water',\n",
              "       'Zero Soda', 'Zero Vitamin Water',\n",
              "       'Zero XXX Acai Blueberry Pomegranate', 'Zucchini Noodles',\n",
              "       'Zucchini Squash', 'smartwater® Electrolyte Enhanced Water'],\n",
              "      dtype='object', length=3543)"
            ]
          },
          "metadata": {},
          "execution_count": 33
        }
      ]
    },
    {
      "cell_type": "code",
      "metadata": {
        "id": "zEhDzpgDTV0H",
        "colab": {
          "base_uri": "https://localhost:8080/",
          "height": 302
        },
        "outputId": "59c7c035-2971-4d8c-e589-8f879f7a4c0e"
      },
      "source": [
        "frequent_items = apriori(df, min_support = 0.0045, use_colnames = True)"
      ],
      "execution_count": 34,
      "outputs": [
        {
          "output_type": "error",
          "ename": "ValueError",
          "evalue": "ignored",
          "traceback": [
            "\u001b[0;31m---------------------------------------------------------------------------\u001b[0m",
            "\u001b[0;31mValueError\u001b[0m                                Traceback (most recent call last)",
            "\u001b[0;32m<ipython-input-34-9eac9a2fd417>\u001b[0m in \u001b[0;36m<module>\u001b[0;34m()\u001b[0m\n\u001b[0;32m----> 1\u001b[0;31m \u001b[0mfrq_items\u001b[0m \u001b[0;34m=\u001b[0m \u001b[0mapriori\u001b[0m\u001b[0;34m(\u001b[0m\u001b[0mdf\u001b[0m\u001b[0;34m,\u001b[0m \u001b[0mmin_support\u001b[0m \u001b[0;34m=\u001b[0m \u001b[0;36m0.0045\u001b[0m\u001b[0;34m,\u001b[0m \u001b[0muse_colnames\u001b[0m \u001b[0;34m=\u001b[0m \u001b[0;32mTrue\u001b[0m\u001b[0;34m)\u001b[0m\u001b[0;34m\u001b[0m\u001b[0;34m\u001b[0m\u001b[0m\n\u001b[0m",
            "\u001b[0;32m/usr/local/lib/python3.7/dist-packages/mlxtend/frequent_patterns/apriori.py\u001b[0m in \u001b[0;36mapriori\u001b[0;34m(df, min_support, use_colnames, max_len, n_jobs)\u001b[0m\n\u001b[1;32m    109\u001b[0m             s = ('The allowed values for a DataFrame'\n\u001b[1;32m    110\u001b[0m                  ' are True, False, 0, 1. Found value %s' % (val))\n\u001b[0;32m--> 111\u001b[0;31m             \u001b[0;32mraise\u001b[0m \u001b[0mValueError\u001b[0m\u001b[0;34m(\u001b[0m\u001b[0ms\u001b[0m\u001b[0;34m)\u001b[0m\u001b[0;34m\u001b[0m\u001b[0;34m\u001b[0m\u001b[0m\n\u001b[0m\u001b[1;32m    112\u001b[0m \u001b[0;34m\u001b[0m\u001b[0m\n\u001b[1;32m    113\u001b[0m     \u001b[0mis_sparse\u001b[0m \u001b[0;34m=\u001b[0m \u001b[0mhasattr\u001b[0m\u001b[0;34m(\u001b[0m\u001b[0mdf\u001b[0m\u001b[0;34m,\u001b[0m \u001b[0;34m\"to_coo\"\u001b[0m\u001b[0;34m)\u001b[0m\u001b[0;34m\u001b[0m\u001b[0;34m\u001b[0m\u001b[0m\n",
            "\u001b[0;31mValueError\u001b[0m: The allowed values for a DataFrame are True, False, 0, 1. Found value 2"
          ]
        }
      ]
    },
    {
      "cell_type": "code",
      "metadata": {
        "id": "HzPDyh7KUX3z"
      },
      "source": [
        "rules = association_rules(frequent_items, metric =\"lift\", min_threshold = 1)\n",
        "rules = rules.sort_values(['confidence', 'lift'], ascending =[False, False])\n",
        "print(rules.head())"
      ],
      "execution_count": null,
      "outputs": []
    }
  ]
}